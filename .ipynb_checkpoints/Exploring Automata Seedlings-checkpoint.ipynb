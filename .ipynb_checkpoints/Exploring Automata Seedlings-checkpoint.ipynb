{
 "cells": [
  {
   "cell_type": "markdown",
   "metadata": {},
   "source": [
    "<center>\n",
    "    <h1>Automata Seedlings</h1>\n",
    "    <h2>Andrew Ribeiro</h2>\n",
    "    <h3>July 21, 2016</h3>\n",
    "</center>"
   ]
  },
  {
   "cell_type": "markdown",
   "metadata": {},
   "source": [
    "<center> A new way of looking at one-shot machine learning. What's it like to become something? It is as it permiates me.</center>\n",
    "<hr />\n"
   ]
  },
  {
   "cell_type": "code",
   "execution_count": 48,
   "metadata": {
    "collapsed": true
   },
   "outputs": [],
   "source": [
    "import numpy as np\n",
    "import matplotlib.pyplot as plt\n",
    "import networkx as nx"
   ]
  },
  {
   "cell_type": "markdown",
   "metadata": {},
   "source": [
    "Ordering/Naming convention: From left to right, top to bottom."
   ]
  },
  {
   "cell_type": "code",
   "execution_count": 7,
   "metadata": {
    "collapsed": false
   },
   "outputs": [],
   "source": [
    "A = np.matrix('0 1 0 0;\\\n",
    "               1 1 1 1;\\\n",
    "               0 1 0 1')\n",
    "\n",
    "B = np.matrix('0 1 1;\\\n",
    "               1 1 0')\n",
    "\n",
    "A_named = np.matrix('0 2 0 0;\\\n",
    "                     1 3 5 6;\\\n",
    "                     0 4 0 7')\n",
    "\n",
    "B_named = np.matrix('0 2 4;\\\n",
    "                     1 3 0')"
   ]
  },
  {
   "cell_type": "code",
   "execution_count": 45,
   "metadata": {
    "collapsed": true
   },
   "outputs": [],
   "source": [
    "class Tree: \n",
    "    root = None\n",
    "    children = []\n",
    "    \n",
    "    # Find the parent node and add the child. \n",
    "    def addChildToNode(self, parent, child):\n",
    "        found = False\n",
    "        \n",
    "        for chld in children:\n",
    "            # If we found the child that is the parent being added to. \n",
    "            if chld.identity == parent.identity:\n",
    "                chld.addChild(child)\n",
    "                found = True\n",
    "                break\n",
    "                \n",
    "        if not found: \n",
    "            # None of our children are the parent. Search our childrent's \n",
    "            # children for the parent of this orphan child. \n",
    "            for chld in children:\n",
    "                self.addChildToNode(chld, child)\n",
    "            \n",
    "\n",
    "class Node:\n",
    "    identity = None\n",
    "    children = []\n",
    "    \n",
    "    def __init__(self,ident):\n",
    "        self.setI(ident)\n",
    "        \n",
    "    def setI(self, ident):\n",
    "        self.identity = ident\n",
    "        \n",
    "    def addChild(self, child):\n",
    "        self.children.append(Node(child))"
   ]
  },
  {
   "cell_type": "code",
   "execution_count": null,
   "metadata": {
    "collapsed": true
   },
   "outputs": [],
   "source": [
    "def printNode:\n",
    "    None"
   ]
  },
  {
   "cell_type": "code",
   "execution_count": 43,
   "metadata": {
    "collapsed": false
   },
   "outputs": [],
   "source": [
    "\n",
    "    \n",
    "def mapTopology(matrix, startingNode):\n",
    "    False\n",
    "\n",
    "def produceGraphs1( matrix ):\n",
    "    # Itterate through by column. \n",
    "    for col in range( matrix.shape[1] ):\n",
    "        for idx, val in enumerate( matrix[:,col] ):\n",
    "            print( val );\n",
    "        \n",
    "    \n",
    "    "
   ]
  },
  {
   "cell_type": "code",
   "execution_count": 22,
   "metadata": {
    "collapsed": false
   },
   "outputs": [
    {
     "data": {
      "text/plain": [
       "matrix([[0],\n",
       "        [1]])"
      ]
     },
     "execution_count": 22,
     "metadata": {},
     "output_type": "execute_result"
    }
   ],
   "source": [
    "B_named[:,0]"
   ]
  },
  {
   "cell_type": "code",
   "execution_count": 24,
   "metadata": {
    "collapsed": false
   },
   "outputs": [
    {
     "data": {
      "text/plain": [
       "(2, 3)"
      ]
     },
     "execution_count": 24,
     "metadata": {},
     "output_type": "execute_result"
    }
   ],
   "source": [
    "B_named.shape"
   ]
  },
  {
   "cell_type": "code",
   "execution_count": 36,
   "metadata": {
    "collapsed": false
   },
   "outputs": [
    {
     "name": "stdout",
     "output_type": "stream",
     "text": [
      "[[0]]\n",
      "[[1]]\n",
      "[[2]]\n",
      "[[3]]\n",
      "[[4]]\n",
      "[[0]]\n"
     ]
    }
   ],
   "source": [
    "produceGraphs1( B_named )"
   ]
  },
  {
   "cell_type": "code",
   "execution_count": 34,
   "metadata": {
    "collapsed": false
   },
   "outputs": [
    {
     "name": "stdout",
     "output_type": "stream",
     "text": [
      "[[0 2 4]\n",
      " [1 3 0]]\n"
     ]
    }
   ],
   "source": [
    "print(B_named\n",
    "     )"
   ]
  },
  {
   "cell_type": "code",
   "execution_count": 35,
   "metadata": {
    "collapsed": false
   },
   "outputs": [
    {
     "name": "stdout",
     "output_type": "stream",
     "text": [
      "[[0 2 0 0]\n",
      " [1 3 5 6]\n",
      " [0 4 0 7]]\n"
     ]
    }
   ],
   "source": [
    "print(A_named)"
   ]
  },
  {
   "cell_type": "code",
   "execution_count": 37,
   "metadata": {
    "collapsed": true
   },
   "outputs": [],
   "source": [
    "a = []\n"
   ]
  },
  {
   "cell_type": "code",
   "execution_count": 38,
   "metadata": {
    "collapsed": true
   },
   "outputs": [],
   "source": [
    "a.append(3\n",
    "        )"
   ]
  },
  {
   "cell_type": "code",
   "execution_count": 39,
   "metadata": {
    "collapsed": false
   },
   "outputs": [
    {
     "data": {
      "text/plain": [
       "[3]"
      ]
     },
     "execution_count": 39,
     "metadata": {},
     "output_type": "execute_result"
    }
   ],
   "source": [
    "a\n"
   ]
  },
  {
   "cell_type": "code",
   "execution_count": 40,
   "metadata": {
    "collapsed": false
   },
   "outputs": [
    {
     "ename": "NameError",
     "evalue": "name 'null' is not defined",
     "output_type": "error",
     "traceback": [
      "\u001b[0;31m---------------------------------------------------------------------------\u001b[0m",
      "\u001b[0;31mNameError\u001b[0m                                 Traceback (most recent call last)",
      "\u001b[0;32m<ipython-input-40-674441960ca1>\u001b[0m in \u001b[0;36m<module>\u001b[0;34m()\u001b[0m\n\u001b[0;32m----> 1\u001b[0;31m \u001b[0mnull\u001b[0m\u001b[0;34m\u001b[0m\u001b[0m\n\u001b[0m",
      "\u001b[0;31mNameError\u001b[0m: name 'null' is not defined"
     ]
    }
   ],
   "source": [
    "null"
   ]
  },
  {
   "cell_type": "code",
   "execution_count": 41,
   "metadata": {
    "collapsed": false
   },
   "outputs": [
    {
     "ename": "NameError",
     "evalue": "name 'Nil' is not defined",
     "output_type": "error",
     "traceback": [
      "\u001b[0;31m---------------------------------------------------------------------------\u001b[0m",
      "\u001b[0;31mNameError\u001b[0m                                 Traceback (most recent call last)",
      "\u001b[0;32m<ipython-input-41-e3f9fa872ac9>\u001b[0m in \u001b[0;36m<module>\u001b[0;34m()\u001b[0m\n\u001b[0;32m----> 1\u001b[0;31m \u001b[0mNil\u001b[0m\u001b[0;34m\u001b[0m\u001b[0m\n\u001b[0m",
      "\u001b[0;31mNameError\u001b[0m: name 'Nil' is not defined"
     ]
    }
   ],
   "source": [
    "Nil"
   ]
  },
  {
   "cell_type": "code",
   "execution_count": 56,
   "metadata": {
    "collapsed": false
   },
   "outputs": [
    {
     "data": {
      "text/plain": [
       "False"
      ]
     },
     "execution_count": 56,
     "metadata": {},
     "output_type": "execute_result"
    }
   ],
   "source": [
    "not True"
   ]
  },
  {
   "cell_type": "code",
   "execution_count": null,
   "metadata": {
    "collapsed": true
   },
   "outputs": [],
   "source": []
  }
 ],
 "metadata": {
  "kernelspec": {
   "display_name": "Python 2",
   "language": "python",
   "name": "python2"
  },
  "language_info": {
   "codemirror_mode": {
    "name": "ipython",
    "version": 2
   },
   "file_extension": ".py",
   "mimetype": "text/x-python",
   "name": "python",
   "nbconvert_exporter": "python",
   "pygments_lexer": "ipython2",
   "version": "2.7.10"
  }
 },
 "nbformat": 4,
 "nbformat_minor": 0
}
